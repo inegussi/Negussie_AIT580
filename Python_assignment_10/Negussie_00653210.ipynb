{
 "cells": [
  {
   "cell_type": "code",
   "execution_count": 4,
   "metadata": {},
   "outputs": [],
   "source": [
    "import pandas as pd\n",
    "\n",
    "data = pd.read_csv('/Users/israelnegussie/Desktop/AIT 580/Negussie_AIT580/data/EmployeeAttrition.csv')\n"
   ]
  },
  {
   "cell_type": "code",
   "execution_count": 6,
   "metadata": {},
   "outputs": [
    {
     "name": "stdout",
     "output_type": "stream",
     "text": [
      "   Age Attrition     BusinessTravel  DailyRate              Department  \\\n",
      "0   41       Yes      Travel_Rarely       1102                   Sales   \n",
      "1   49        No  Travel_Frequently        279  Research & Development   \n",
      "2   37       Yes      Travel_Rarely       1373  Research & Development   \n",
      "3   33        No  Travel_Frequently       1392  Research & Development   \n",
      "4   27        No      Travel_Rarely        591  Research & Development   \n",
      "\n",
      "   DistanceFromHome  Education EducationField  EmployeeCount  EmployeeNumber  \\\n",
      "0                 1          2  Life Sciences              1               1   \n",
      "1                 8          1  Life Sciences              1               2   \n",
      "2                 2          2          Other              1               4   \n",
      "3                 3          4  Life Sciences              1               5   \n",
      "4                 2          1        Medical              1               7   \n",
      "\n",
      "   ...  RelationshipSatisfaction StandardHours  StockOptionLevel  \\\n",
      "0  ...                         1            80                 0   \n",
      "1  ...                         4            80                 1   \n",
      "2  ...                         2            80                 0   \n",
      "3  ...                         3            80                 0   \n",
      "4  ...                         4            80                 1   \n",
      "\n",
      "   TotalWorkingYears  TrainingTimesLastYear WorkLifeBalance  YearsAtCompany  \\\n",
      "0                  8                      0               1               6   \n",
      "1                 10                      3               3              10   \n",
      "2                  7                      3               3               0   \n",
      "3                  8                      3               3               8   \n",
      "4                  6                      3               3               2   \n",
      "\n",
      "  YearsInCurrentRole  YearsSinceLastPromotion  YearsWithCurrManager  \n",
      "0                  4                        0                     5  \n",
      "1                  7                        1                     7  \n",
      "2                  0                        0                     0  \n",
      "3                  7                        3                     0  \n",
      "4                  2                        2                     2  \n",
      "\n",
      "[5 rows x 35 columns]\n"
     ]
    }
   ],
   "source": [
    "print(data.head())"
   ]
  },
  {
   "cell_type": "code",
   "execution_count": 7,
   "metadata": {},
   "outputs": [
    {
     "name": "stdout",
     "output_type": "stream",
     "text": [
      "   Age Attrition     BusinessTravel  DailyRate              Department  \\\n",
      "0   41       Yes      Travel_Rarely       1102                   Sales   \n",
      "1   49        No  Travel_Frequently        279  Research & Development   \n",
      "2   37       Yes      Travel_Rarely       1373  Research & Development   \n",
      "3   33        No  Travel_Frequently       1392  Research & Development   \n",
      "4   27        No      Travel_Rarely        591  Research & Development   \n",
      "\n",
      "   DistanceFromHome  Education EducationField  EmployeeCount  EmployeeNumber  \\\n",
      "0                 1          2  Life Sciences              1               1   \n",
      "1                 8          1  Life Sciences              1               2   \n",
      "2                 2          2          Other              1               4   \n",
      "3                 3          4  Life Sciences              1               5   \n",
      "4                 2          1        Medical              1               7   \n",
      "\n",
      "   ...  RelationshipSatisfaction StandardHours  StockOptionLevel  \\\n",
      "0  ...                         1            80                 0   \n",
      "1  ...                         4            80                 1   \n",
      "2  ...                         2            80                 0   \n",
      "3  ...                         3            80                 0   \n",
      "4  ...                         4            80                 1   \n",
      "\n",
      "   TotalWorkingYears  TrainingTimesLastYear WorkLifeBalance  YearsAtCompany  \\\n",
      "0                  8                      0               1               6   \n",
      "1                 10                      3               3              10   \n",
      "2                  7                      3               3               0   \n",
      "3                  8                      3               3               8   \n",
      "4                  6                      3               3               2   \n",
      "\n",
      "  YearsInCurrentRole  YearsSinceLastPromotion  YearsWithCurrManager  \n",
      "0                  4                        0                     5  \n",
      "1                  7                        1                     7  \n",
      "2                  0                        0                     0  \n",
      "3                  7                        3                     0  \n",
      "4                  2                        2                     2  \n",
      "\n",
      "[5 rows x 35 columns]\n"
     ]
    }
   ],
   "source": [
    "#Check the head of the DataFrame.\n",
    "print(data.head())"
   ]
  },
  {
   "cell_type": "code",
   "execution_count": null,
   "metadata": {},
   "outputs": [],
   "source": []
  },
  {
   "cell_type": "code",
   "execution_count": 15,
   "metadata": {},
   "outputs": [
    {
     "name": "stdout",
     "output_type": "stream",
     "text": [
      "1470\n",
      "35\n"
     ]
    }
   ],
   "source": [
    "#Q1: Find the number of entries/rows and columns in the data.\n",
    "count_row = data.shape[0]\n",
    "count_column=data.shape[1]\n",
    "print(count_row)\n",
    "print(count_column)"
   ]
  },
  {
   "cell_type": "code",
   "execution_count": 105,
   "metadata": {},
   "outputs": [
    {
     "name": "stdout",
     "output_type": "stream",
     "text": [
      "6502.931292517007\n"
     ]
    }
   ],
   "source": [
    "#Q2: What is the average Monthly Income?\n",
    "print(data[\"MonthlyIncome\"].mean())"
   ]
  },
  {
   "cell_type": "code",
   "execution_count": 17,
   "metadata": {},
   "outputs": [
    {
     "data": {
      "text/plain": [
       "100"
      ]
     },
     "execution_count": 17,
     "metadata": {},
     "output_type": "execute_result"
    }
   ],
   "source": [
    "#Q3: What is the highest amount of HourlyRate ?\n",
    "print(data[\"HourlyRate\"].max())"
   ]
  },
  {
   "cell_type": "code",
   "execution_count": 64,
   "metadata": {},
   "outputs": [
    {
     "name": "stdout",
     "output_type": "stream",
     "text": [
      "                 JobRole              Department MaritalStatus OverTime\n",
      "6  Laboratory Technician  Research & Development       Married      Yes\n"
     ]
    }
   ],
   "source": [
    "#Q4: What is the Department, JobRole, MaritalStatus and OverTime of EmployeeNumber 10?\n",
    "print(data[data[\"EmployeeNumber\"]==10][['JobRole','Department','MaritalStatus','OverTime']])"
   ]
  },
  {
   "cell_type": "code",
   "execution_count": 96,
   "metadata": {},
   "outputs": [
    {
     "name": "stdout",
     "output_type": "stream",
     "text": [
      "19999\n",
      "190    259\n",
      "Name: EmployeeNumber, dtype: int64\n"
     ]
    }
   ],
   "source": [
    "#Q5: What is the Employee ID of highest MonthlyIncome paid employee?\n",
    "highestincome=data[\"MonthlyIncome\"].max()\n",
    "print(highestincome)\n",
    "print(data[data[\"MonthlyIncome\"]==19999]['EmployeeNumber'])"
   ]
  },
  {
   "cell_type": "code",
   "execution_count": 104,
   "metadata": {},
   "outputs": [
    {
     "name": "stdout",
     "output_type": "stream",
     "text": [
      "Age\n",
      "18    747.625000\n",
      "19    548.444444\n",
      "20    819.454545\n",
      "21    762.846154\n",
      "22    806.937500\n",
      "23    707.928571\n",
      "24    863.115385\n",
      "25    768.076923\n",
      "26    844.769231\n",
      "27    907.333333\n",
      "28    927.500000\n",
      "29    779.308824\n",
      "30    791.266667\n",
      "31    725.173913\n",
      "32    766.262295\n",
      "33    739.672414\n",
      "34    788.285714\n",
      "35    825.320513\n",
      "36    819.130435\n",
      "37    827.720000\n",
      "38    776.155172\n",
      "39    774.642857\n",
      "40    841.719298\n",
      "41    721.525000\n",
      "42    713.391304\n",
      "43    818.250000\n",
      "44    856.848485\n",
      "45    844.975610\n",
      "46    802.242424\n",
      "47    852.875000\n",
      "48    816.263158\n",
      "49    886.541667\n",
      "50    879.100000\n",
      "51    953.789474\n",
      "52    796.666667\n",
      "53    856.684211\n",
      "54    727.666667\n",
      "55    646.227273\n",
      "56    904.428571\n",
      "57    385.500000\n",
      "58    690.500000\n",
      "59    992.300000\n",
      "60    833.200000\n",
      "Name: DailyRate, dtype: float64\n"
     ]
    }
   ],
   "source": [
    "#What is the average(mean) DailyRate group by Age for all Employees whose age is greater than 58. (hint: use groupby function)\n",
    "x=data.groupby('Age').DailyRate.mean()\n",
    "print(x)"
   ]
  },
  {
   "cell_type": "code",
   "execution_count": 87,
   "metadata": {},
   "outputs": [
    {
     "name": "stdout",
     "output_type": "stream",
     "text": [
      "Life Sciences       606\n",
      "Medical             464\n",
      "Marketing           159\n",
      "Technical Degree    132\n",
      "Other                82\n",
      "Human Resources      27\n",
      "Name: EducationField, dtype: int64\n"
     ]
    }
   ],
   "source": [
    "#Q7: How many unique EducationField are there?\n",
    "print(data.EducationField.value_counts())"
   ]
  },
  {
   "cell_type": "code",
   "execution_count": 73,
   "metadata": {},
   "outputs": [
    {
     "name": "stdout",
     "output_type": "stream",
     "text": [
      "Sales Executive              326\n",
      "Research Scientist           292\n",
      "Laboratory Technician        259\n",
      "Manufacturing Director       145\n",
      "Healthcare Representative    131\n",
      "Name: JobRole, dtype: int64\n"
     ]
    }
   ],
   "source": [
    "#Q8: What are the top 5 most common JobRole?\n",
    "print(data['JobRole'].value_counts().head(5))"
   ]
  },
  {
   "cell_type": "code",
   "execution_count": 83,
   "metadata": {},
   "outputs": [
    {
     "name": "stdout",
     "output_type": "stream",
     "text": [
      "Sales Executive              False\n",
      "Research Scientist           False\n",
      "Laboratory Technician        False\n",
      "Manufacturing Director       False\n",
      "Healthcare Representative    False\n",
      "Manager                      False\n",
      "Sales Representative          True\n",
      "Research Director             True\n",
      "Human Resources               True\n",
      "Name: JobRole, dtype: bool\n"
     ]
    }
   ],
   "source": [
    "#Q9: How many JobRoles represented by less than 100 employees?\n",
    "print((data['JobRole'].value_counts()<100))"
   ]
  },
  {
   "cell_type": "code",
   "execution_count": 86,
   "metadata": {},
   "outputs": [
    {
     "data": {
      "text/plain": [
       "<matplotlib.axes._subplots.AxesSubplot at 0x11cf1ff28>"
      ]
     },
     "execution_count": 86,
     "metadata": {},
     "output_type": "execute_result"
    },
    {
     "data": {
      "image/png": "[encoded data removed]",
      "text/plain": [
       "<Figure size 432x288 with 1 Axes>"
      ]
     },
     "metadata": {
      "needs_background": "light"
     },
     "output_type": "display_data"
    }
   ],
   "source": [
    "#Q10: What is the correlation between Education and JobSatisfaction?\n",
    "data.plot(kind='scatter', x='Education', y='JobSatisfaction', alpha=0.2)\n"
   ]
  },
  {
   "cell_type": "code",
   "execution_count": null,
   "metadata": {},
   "outputs": [],
   "source": []
  }
 ],
 "metadata": {
  "kernelspec": {
   "display_name": "Python 3",
   "language": "python",
   "name": "python3"
  },
  "language_info": {
   "codemirror_mode": {
    "name": "ipython",
    "version": 3
   },
   "file_extension": ".py",
   "mimetype": "text/x-python",
   "name": "python",
   "nbconvert_exporter": "python",
   "pygments_lexer": "ipython3",
   "version": "3.7.3"
  }
 },
 "nbformat": 4,
 "nbformat_minor": 2
}
