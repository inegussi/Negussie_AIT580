{
 "cells": [
  {
   "cell_type": "code",
   "execution_count": 1,
   "metadata": {},
   "outputs": [],
   "source": [
    "import csv\n",
    "from urllib.request import urlopen\n",
    "from bs4 import BeautifulSoup\n",
    "\n",
    "html = urlopen(\"https://repo.vse.gmu.edu/ait/AIT580/580books.html\")\n",
    "soup = BeautifulSoup(html, \"html.parser\")\n",
    "table = soup.table\n",
    "rows = table.findAll(\"tr\")\n",
    "\n",
    "with open(\"python.csv\", \"wt+\", newline=\"\") as f:\n",
    "    writer = csv.writer(f)\n",
    "    for row in rows:\n",
    "        csv_row = []\n",
    "        for cell in row.findAll([\"td\", \"th\"]):\n",
    "            csv_row.append(cell.get_text())\n",
    "        writer.writerow(csv_row)"
   ]
  },
  {
   "cell_type": "code",
   "execution_count": 4,
   "metadata": {},
   "outputs": [
    {
     "name": "stdout",
     "output_type": "stream",
     "text": [
      "                                             Title\\n  \\\n",
      "0                                    Learning Python   \n",
      "1                           Web Scraping with Python   \n",
      "2                             Python Coding for Kids   \n",
      "3                 Python Machine Learning By Example   \n",
      "4              Python Data Structures and Algorithms   \n",
      "5                               Python in a Nutshell   \n",
      "6         Invent Your Own Computer Games with Python   \n",
      "7                                  Head First Python   \n",
      "8  Integrating Python with Leading Computer Foren...   \n",
      "9                  Data Science Essentials in Python   \n",
      "\n",
      "                       Author(S)\\n          Publisher\\n       PubDate\\n  \n",
      "0                        Mark Lutz       O'Reilly Media       June 2013  \n",
      "1                    Ryan Mitchell       O'Reilly Media   November 2017  \n",
      "2                      Don Wilcher     Maker Media, Inc  September 2017  \n",
      "3                         Yuxi Liu     Packt Publishing        May 2017  \n",
      "4                    Benjamin Baka     Packt Publishing        May 2017  \n",
      "5  Alex Martelli, Anna Ravenscroft       O'Reilly Media      April 2017  \n",
      "6                      Al Sweigart      No Starch Press   December 2016  \n",
      "7                       Paul Barry       O'Reilly Media   November 2016  \n",
      "8                      Chet Hosmer  Elsevier / Syngress  September 2016  \n",
      "9                  Dmitry Zinoviev  Pragmatic Bookshelf     August 2016  \n"
     ]
    }
   ],
   "source": [
    "import pandas as pd\n",
    "dframe = pd.read_csv(\"python.csv\")\n",
    "print(dframe)"
   ]
  },
  {
   "cell_type": "code",
   "execution_count": 5,
   "metadata": {},
   "outputs": [
    {
     "data": {
      "text/plain": [
       "O'Reilly Media         4\n",
       "Packt Publishing       2\n",
       "No Starch Press        1\n",
       "Pragmatic Bookshelf    1\n",
       "Maker Media, Inc       1\n",
       "Elsevier / Syngress    1\n",
       "Name: Publisher, dtype: int64"
      ]
     },
     "execution_count": 5,
     "metadata": {},
     "output_type": "execute_result"
    }
   ],
   "source": [
    "dframe.columns = dframe.columns.str.strip()\n",
    "dframe.Publisher.value_counts()"
   ]
  },
  {
   "cell_type": "code",
   "execution_count": 7,
   "metadata": {},
   "outputs": [
    {
     "data": {
      "text/plain": [
       "<matplotlib.axes._subplots.AxesSubplot at 0x117e4a2e8>"
      ]
     },
     "execution_count": 7,
     "metadata": {},
     "output_type": "execute_result"
    },
    {
     "data": {
      "image/png": "[encoded data removed]",
      "text/plain": [
       "<Figure size 432x288 with 1 Axes>"
      ]
     },
     "metadata": {
      "needs_background": "light"
     },
     "output_type": "display_data"
    }
   ],
   "source": [
    "import matplotlib.pyplot as plt\n",
    "dframe['Publisher'].value_counts().plot(kind='bar')"
   ]
  },
  {
   "cell_type": "code",
   "execution_count": 8,
   "metadata": {},
   "outputs": [
    {
     "data": {
      "text/plain": [
       "May 2017          2\n",
       "April 2017        1\n",
       "August 2016       1\n",
       "September 2016    1\n",
       "December 2016     1\n",
       "September 2017    1\n",
       "November 2017     1\n",
       "November 2016     1\n",
       "June 2013         1\n",
       "Name: PubDate, dtype: int64"
      ]
     },
     "execution_count": 8,
     "metadata": {},
     "output_type": "execute_result"
    }
   ],
   "source": [
    "dframe.PubDate.value_counts()"
   ]
  },
  {
   "cell_type": "code",
   "execution_count": 9,
   "metadata": {},
   "outputs": [
    {
     "data": {
      "text/plain": [
       "<matplotlib.axes._subplots.AxesSubplot at 0x117ebc0f0>"
      ]
     },
     "execution_count": 9,
     "metadata": {},
     "output_type": "execute_result"
    },
    {
     "data": {
      "image/png": "[encoded data removed]",
      "text/plain": [
       "<Figure size 432x288 with 1 Axes>"
      ]
     },
     "metadata": {
      "needs_background": "light"
     },
     "output_type": "display_data"
    }
   ],
   "source": [
    "dframe['PubDate'].value_counts().plot(kind='bar')"
   ]
  },
  {
   "cell_type": "code",
   "execution_count": null,
   "metadata": {},
   "outputs": [],
   "source": []
  }
 ],
 "metadata": {
  "kernelspec": {
   "display_name": "Python 3",
   "language": "python",
   "name": "python3"
  },
  "language_info": {
   "codemirror_mode": {
    "name": "ipython",
    "version": 3
   },
   "file_extension": ".py",
   "mimetype": "text/x-python",
   "name": "python",
   "nbconvert_exporter": "python",
   "pygments_lexer": "ipython3",
   "version": "3.7.3"
  }
 },
 "nbformat": 4,
 "nbformat_minor": 2
}
